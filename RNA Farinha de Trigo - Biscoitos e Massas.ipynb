{
 "cells": [
  {
   "cell_type": "markdown",
   "metadata": {},
   "source": [
    "# UTILIZAÇÃO DE REDES NEURAIS ARTIFICIAIS PARA CLASSIFICAÇÃO DE FARINHA DE TRIGO EM UMA INDÚSTRIA DE BISCOITOS E MASSAS\n",
    "\n",
    "### DISSERTAÇÃO DE MESTRADO\n",
    "\n",
    "\n",
    "## Definição do Problema\n",
    "\n",
    "Uma indústria de biscoitos e massas realiza a classificação de farinha de trigo para a utilização na sua produção, com base nas análises realizadas em seu laboratório físico-analítico.\n",
    "\n",
    "### Qual é o problema que queremos resolver?\n",
    "\n",
    "Realizar a classificação das farinhas para cada produto, retornando se ela está aprovada, aprovada condicional ou reprovada, de forma mais eficiente que a atual.\n",
    "\n",
    "## Métricas\n",
    "\n",
    "Afinal, como saberemos que a solução encontrada está funcionando? Mais do que melhorar as técnicas de machine learning, precisamos definir quais serão as métricas de negócio/produto que iremos afetar. É importante escolher dois tipos de métricas:\n",
    "\n",
    "1. Primária\n",
    "2. Secundárias\n",
    "\n",
    "Essas métricas devem ser usadas para definir o sucesso/fracasso do projeto\n",
    "durante o teste em produção (por exemplo, teste A/B).\n",
    "\n",
    "### Métrica Primária\n",
    "\n",
    "Essa é a métrica principal do projeto, aquela que será medida em todos os\n",
    "estágios possíveis, principalmente durante o monitoramento em produção.No caso deste trabalho, o número de classificações corretas será levada como a principal métrica.\n",
    "Tudo o que faremos no projeto é voltado a melhorar essa métrica. Mas precisamos tomar cuidado, pois o fato de estarmos tentando afetá-la, a torna menos confiável.\n",
    "A “Lei de Goodhart” diz: “Quando uma métrica se torna um alvo, ela deixa\n",
    "de ser uma boa métrica”. Por isso precisamos de…\n",
    "\n",
    "### Métricas Secundárias\n",
    "\n",
    "Não adianta melhorar o número de classificações corretas se o tempo para obter esse resultado é muito superior ao obtido hoje.\n",
    "Por isso é importante, na maioria dos projetos de machine learning, ter várias métricas secundárias que tratem de monitorar outros passos e processos afetados por nossa solução.\n",
    "Nosso objetivo não deve ser otimizar essas métricas diretamente ou tornaremos essas novas métricas primárias.\n",
    "Devemos monitorar e entender o efeito de nossa solução.\n",
    "Na maioria dos casos o ideal é que essas métricas se mantenham no mesmo nível de antes da solução. O mais importante é monitorar a degradação."
   ]
  }
 ],
 "metadata": {
  "kernelspec": {
   "display_name": "Python 3",
   "language": "python",
   "name": "python3"
  },
  "language_info": {
   "codemirror_mode": {
    "name": "ipython",
    "version": 3
   },
   "file_extension": ".py",
   "mimetype": "text/x-python",
   "name": "python",
   "nbconvert_exporter": "python",
   "pygments_lexer": "ipython3",
   "version": "3.6.9"
  }
 },
 "nbformat": 4,
 "nbformat_minor": 2
}
